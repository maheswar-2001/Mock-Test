{
 "cells": [
  {
   "cell_type": "code",
   "execution_count": null,
   "id": "730eee94",
   "metadata": {},
   "outputs": [],
   "source": [
    "import java.util.*;\n",
    "public class square_root\n",
    "{\n",
    "\tpublic static void main(String[] args) {\n",
    "\t\tScanner ss = new Scanner(System.in);\n",
    "\t\tSystem.out.println(\"Enter a number\");\n",
    "\t\tint n = ss.nextInt();\n",
    "\t\tdouble sqrt,temp;\n",
    "\t\tsqrt = n/2;\n",
    "\t\ttemp = 0;\n",
    "\t\twhile(sqrt != temp)\n",
    "\t\t{\n",
    "\t\t\ttemp = sqrt;\n",
    "\t\t\tsqrt = (n/temp+temp)/2;\n",
    "\t\t\tSystem.out.println(sqrt);\n",
    "\t\t}\n",
    "\t\tSystem.out.println(\"Square root is:\"+sqrt);\n",
    "\t}\n",
    "}"
   ]
  }
 ],
 "metadata": {
  "kernelspec": {
   "display_name": "Python 3 (ipykernel)",
   "language": "python",
   "name": "python3"
  },
  "language_info": {
   "codemirror_mode": {
    "name": "ipython",
    "version": 3
   },
   "file_extension": ".py",
   "mimetype": "text/x-python",
   "name": "python",
   "nbconvert_exporter": "python",
   "pygments_lexer": "ipython3",
   "version": "3.9.12"
  }
 },
 "nbformat": 4,
 "nbformat_minor": 5
}
