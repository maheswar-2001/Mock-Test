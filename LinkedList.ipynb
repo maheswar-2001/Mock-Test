{
 "cells": [
  {
   "cell_type": "code",
   "execution_count": null,
   "id": "52a256f1",
   "metadata": {},
   "outputs": [],
   "source": [
    "public ListNode addTwoNumbers(ListNode l1, ListNode l2) \n",
    "    {\n",
    "        ListNode head=null;\n",
    "        ListNode temp=null;\n",
    "\n",
    "        int carry = 0;\n",
    "        while(l1 != null || l2!=null)    \n",
    "        {\n",
    "            int sum = carry;\n",
    "            if(l1!=null)\n",
    "            {\n",
    "                sum+=l1.val;\n",
    "                l1=l1.next;\n",
    "            }\n",
    "            if(l2!=null)\n",
    "            {\n",
    "                sum+=l2.val;\n",
    "                l2=l2.next;\n",
    "            }\n",
    "            ListNode node = new ListNode(sum % 10);\n",
    "            // Carry to be added in the next iteration\n",
    "            carry = sum / 10;\n",
    "            // If this is the first node or head\n",
    "            if (temp == null) {\n",
    "                temp = head = node;\n",
    "            }\n",
    "            // For any other node\n",
    "            else {\n",
    "                temp.next = node;\n",
    "                temp = temp.next;\n",
    "            }\n",
    "        }\n",
    "        // After the last iteration, we will check if there is carry left\n",
    "        // If it's left then we will create a new node and add it\n",
    "        if (carry > 0) {\n",
    "            temp.next = new ListNode(carry);\n",
    "        }\n",
    "        return head;\n",
    "        }\n",
    "    }"
   ]
  }
 ],
 "metadata": {
  "kernelspec": {
   "display_name": "Python 3 (ipykernel)",
   "language": "python",
   "name": "python3"
  },
  "language_info": {
   "codemirror_mode": {
    "name": "ipython",
    "version": 3
   },
   "file_extension": ".py",
   "mimetype": "text/x-python",
   "name": "python",
   "nbconvert_exporter": "python",
   "pygments_lexer": "ipython3",
   "version": "3.9.12"
  }
 },
 "nbformat": 4,
 "nbformat_minor": 5
}
